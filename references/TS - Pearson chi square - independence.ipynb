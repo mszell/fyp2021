{
 "cells": [
  {
   "cell_type": "markdown",
   "metadata": {},
   "source": [
    "# Pearson Chi-Square Test of Independence\n",
    "*By P. Stikker*<br>\n",
    "https://PeterStatistics.com<br>\n",
    "https://www.youtube.com/stikpet<br>"
   ]
  },
  {
   "cell_type": "markdown",
   "metadata": {},
   "source": [
    "## Introduction"
   ]
  },
  {
   "cell_type": "markdown",
   "metadata": {},
   "source": [
    "To test if two nominal variables have an association, the most commonly used test is the Pearson chi-square test of independence. If the significance of this test is below 0.05, the two nominal variables have a significant association.\n",
    "\n",
    "One problem though is that the Pearson chi-square test should only be used if not too many cells have a so-called expected count, of less than 5, and the minimum expected count is at least 1. So you will also have to check first if these conditions are met. Most often ‘not too many cells’ is fixed at no more than 20% of the cells. Note that there are othes who would say that all cells should have an expected count of at least 5.\n",
    "\n",
    "Once you have checked the conditions and looked at the results, you can report the test results. In the example the percentage of cells with an expected count less than 5 is actually 0%, so it is okay to use the test.\n",
    "\n",
    "Lets see how this works with Python by example."
   ]
  },
  {
   "cell_type": "markdown",
   "metadata": {},
   "source": [
    "## Example"
   ]
  },
  {
   "cell_type": "markdown",
   "metadata": {},
   "source": [
    "The example data will be loaded as a Pandas Dataframe, so we'll need pandas:"
   ]
  },
  {
   "cell_type": "code",
   "execution_count": null,
   "metadata": {},
   "outputs": [],
   "source": [
    "# !pip install pandas\n",
    "import pandas as pd     # https://pandas.pydata.org/"
   ]
  },
  {
   "cell_type": "markdown",
   "metadata": {},
   "source": [
    "To load the example data we can now use <a href=\"https://pandas.pydata.org/pandas-docs/stable/reference/api/pandas.read_csv.html\">'read_csv'</a>. "
   ]
  },
  {
   "cell_type": "code",
   "execution_count": null,
   "metadata": {},
   "outputs": [],
   "source": [
    "myDf = pd.read_csv('../../Data/csv/GSS2012a.csv')\n",
    "myDf.head()"
   ]
  },
  {
   "cell_type": "markdown",
   "metadata": {},
   "source": [
    "I'll be using the 'mar1' and 'sex' fields for the example, so select those:"
   ]
  },
  {
   "cell_type": "code",
   "execution_count": null,
   "metadata": {},
   "outputs": [],
   "source": [
    "myField1 = myDf['mar1']\n",
    "myField2 = myDf['sex']"
   ]
  },
  {
   "cell_type": "markdown",
   "metadata": {},
   "source": [
    "To get a quick look at the counts from these we can use Pandas '<a href=\"https://pandas.pydata.org/pandas-docs/stable/reference/api/pandas.crosstab.html\">crosstab</a>': "
   ]
  },
  {
   "cell_type": "code",
   "execution_count": null,
   "metadata": {},
   "outputs": [],
   "source": [
    "myCrosstable = pd.crosstab(myField1, myField2)\n",
    "myCrosstable"
   ]
  },
  {
   "cell_type": "markdown",
   "metadata": {},
   "source": [
    "To perform the test, I'll make use of the '<a href=\"https://docs.scipy.org/doc/scipy/reference/generated/scipy.stats.chi2_contingency.html#scipy.stats.chi2_contingency\">chi2_contingency</a>' function in the '<a href=\"https://docs.scipy.org/doc/scipy/reference/stats.html\">stats</a>' module, of the <a href=\"https://www.scipy.org/\">scipy</a> library. So lets load that in:"
   ]
  },
  {
   "cell_type": "code",
   "execution_count": null,
   "metadata": {},
   "outputs": [],
   "source": [
    "# !pip install scipy\n",
    "from scipy.stats import chi2_contingency"
   ]
  },
  {
   "cell_type": "markdown",
   "metadata": {},
   "source": [
    "Now all we need to do is feed this function our cross table:"
   ]
  },
  {
   "cell_type": "code",
   "execution_count": null,
   "metadata": {},
   "outputs": [],
   "source": [
    "chiVal, pVal, df, exp = chi2_contingency(myCrosstable)\n",
    "chiVal, pVal, df, exp"
   ]
  },
  {
   "cell_type": "markdown",
   "metadata": {},
   "source": [
    "The first value is the chi-square value of 16.99. The chance of such a value or even more extreme, in a sample, if there is no association in the population is 0.0019 (the second value). This is known as the p-value or significance. It is considered 'significant' usually if this value is below 0.05, which in this case it is. This indicates then an association between the two variables (one has an impact on the other).\n",
    "\n",
    "The third value is the degrees of freedom, which is an indication of the size of the table, since it is simply the number of rows - 1, times the number of columns - 1.\n",
    "\n",
    "The last array are the so called expected values. These are the counts to be expected if the two variables had no influence on each other.\n",
    "\n",
    "Note that as a criteria the lowest expected value should be at least 1, and not too many should be below 5. Often a threshold of 20% is used (so if more than 20% of the cells have an expected count of 5 or less, the test is not reliable to use).\n",
    "\n",
    "So lets check this. First the lowest expected count:"
   ]
  },
  {
   "cell_type": "code",
   "execution_count": null,
   "metadata": {},
   "outputs": [],
   "source": [
    "exp.min()"
   ]
  },
  {
   "cell_type": "markdown",
   "metadata": {},
   "source": [
    "So 35 is well above the criteria of at least 1, so thats good.\n",
    "\n",
    "Now for the percentage of cells with a count less than 5:"
   ]
  },
  {
   "cell_type": "code",
   "execution_count": null,
   "metadata": {},
   "outputs": [],
   "source": [
    "len(exp[exp < 5]) / len(exp) * 100"
   ]
  },
  {
   "cell_type": "markdown",
   "metadata": {},
   "source": [
    "Well, since none of them was below 5 the percentage is of course 0%."
   ]
  },
  {
   "cell_type": "markdown",
   "metadata": {},
   "source": [
    "Instead of the scipy package, a slightly lesser known package of 'researchpy' also has a chi-square test that could be easier to use."
   ]
  },
  {
   "cell_type": "code",
   "execution_count": null,
   "metadata": {},
   "outputs": [],
   "source": [
    "# !pip install researchpy\n",
    "import researchpy   # https://researchpy.readthedocs.io/"
   ]
  },
  {
   "cell_type": "markdown",
   "metadata": {},
   "source": [
    "With this package we can use crosstab directly on the dataframe, set the test to 'chi-square', and since we're also interested in the expected frequencies, set 'expected_freqs' to True:"
   ]
  },
  {
   "cell_type": "code",
   "execution_count": null,
   "metadata": {},
   "outputs": [],
   "source": [
    "crosstab, res, exp = researchpy.crosstab(myDf['sex'], myDf['mar1'], test='chi-square', expected_freqs=True)"
   ]
  },
  {
   "cell_type": "markdown",
   "metadata": {},
   "source": [
    "The results of the test:"
   ]
  },
  {
   "cell_type": "code",
   "execution_count": null,
   "metadata": {},
   "outputs": [],
   "source": [
    "res"
   ]
  },
  {
   "cell_type": "markdown",
   "metadata": {},
   "source": [
    "And the expected values:"
   ]
  },
  {
   "cell_type": "code",
   "execution_count": null,
   "metadata": {},
   "outputs": [],
   "source": [
    "exp"
   ]
  },
  {
   "cell_type": "markdown",
   "metadata": {},
   "source": [
    "Same results again as before.\n",
    "\n",
    "In the appendix I'll go over the formulas that are actually used in these packages."
   ]
  },
  {
   "cell_type": "markdown",
   "metadata": {},
   "source": [
    "## Appendix: The Hard Way"
   ]
  },
  {
   "cell_type": "code",
   "execution_count": null,
   "metadata": {},
   "outputs": [],
   "source": [
    "myCrosstable"
   ]
  },
  {
   "cell_type": "markdown",
   "metadata": {},
   "source": [
    "We begin with calculating the expected values. These can be calculated using:\n",
    "\n",
    "\\begin{equation*}\n",
    "E_{i,j} = \\frac{R_i \\times C_j}{N}\n",
    "\\end{equation*}\n",
    "\n",
    "The $E_{i,j}$ indicates the expected count in row i, column j. The $R_i$ is the row total of row i, and $C_j$ the column total of column j. The $N$ is the grand total.\n",
    "\n",
    "So we need the column and row totals. This can be easily done with Pandas '<a href=\"https://pandas.pydata.org/pandas-docs/stable/reference/api/pandas.DataFrame.sum.html\">sum</a>' function. For the rows we need to use 'axis=1' so it will sum by row (rather than by column):"
   ]
  },
  {
   "cell_type": "code",
   "execution_count": null,
   "metadata": {},
   "outputs": [],
   "source": [
    "colTotals = myCrosstable.sum()\n",
    "rowTotals = myCrosstable.sum(axis=1)\n",
    "\n",
    "colTotals, rowTotals"
   ]
  },
  {
   "cell_type": "markdown",
   "metadata": {},
   "source": [
    "Its useful to have the number of rows and columns also easily accessible, which can be obtained by using Python's '<a href=\"https://docs.python.org/3/library/functions.html#len\">len</a>' function:"
   ]
  },
  {
   "cell_type": "code",
   "execution_count": null,
   "metadata": {},
   "outputs": [],
   "source": [
    "nCols = len(colTotals)\n",
    "nRows = len(rowTotals)\n",
    "\n",
    "nCols, nRows"
   ]
  },
  {
   "cell_type": "markdown",
   "metadata": {},
   "source": [
    "And the grand total is simply the sum of the row totals (or the column totals):"
   ]
  },
  {
   "cell_type": "code",
   "execution_count": null,
   "metadata": {},
   "outputs": [],
   "source": [
    "N = rowTotals.sum()\n",
    "N"
   ]
  },
  {
   "cell_type": "markdown",
   "metadata": {},
   "source": [
    "Next we can determine the expected values using the formula. We do this for each cell so iterate over all rows and columns:"
   ]
  },
  {
   "cell_type": "code",
   "execution_count": null,
   "metadata": {},
   "outputs": [],
   "source": [
    "for i in range(nRows):\n",
    "    for j in range(nCols):\n",
    "        E = rowTotals[i] * colTotals[j] / N\n",
    "        print(E)"
   ]
  },
  {
   "cell_type": "markdown",
   "metadata": {},
   "source": [
    "The chi-square value can now be calculated using:\n",
    "\n",
    "\\begin{equation*}\n",
    "\\chi^2 = \\sum\\frac{(O_{i,j}-E_{i,j})^2}{E_{i,j}}\n",
    "\\end{equation*}\n",
    "\n",
    "The $O_{i,j}$ are the observed counts from the original cross table (i-th row, j-th column), we subtract the expected count, and square the result. We then add all of these up, and divide by the expected count.\n",
    "\n",
    "So here goes with Python:"
   ]
  },
  {
   "cell_type": "code",
   "execution_count": null,
   "metadata": {},
   "outputs": [],
   "source": [
    "chiVal = 0\n",
    "for i in range(nRows):\n",
    "    for j in range(nCols):\n",
    "        E = rowTotals[i] * colTotals[j] / N\n",
    "        O = myCrosstable.iloc[i,j]\n",
    "        chiVal = chiVal + (O - E)**2 / E\n",
    "chiVal"
   ]
  },
  {
   "cell_type": "markdown",
   "metadata": {},
   "source": [
    "Great, the same result as with the scipy package.\n",
    "\n",
    "We also will need the degrees of freedom (df), but that is relatively easy:\n",
    "\n",
    "\\begin{equation*}\n",
    "df = (r - 1)(c-1)\n",
    "\\end{equation*}\n",
    "\n",
    "Where $r$ is the number of rows, and $c$ the number of columns."
   ]
  },
  {
   "cell_type": "code",
   "execution_count": null,
   "metadata": {},
   "outputs": [],
   "source": [
    "df = (nRows - 1) * (nCols - 1)\n",
    "df"
   ]
  },
  {
   "cell_type": "markdown",
   "metadata": {},
   "source": [
    "To obtain the area under a chi-square distribution with df of 4, from 0 to our found chi-square value, we will use the chi2.cdf function from scipy.stats."
   ]
  },
  {
   "cell_type": "code",
   "execution_count": null,
   "metadata": {},
   "outputs": [],
   "source": [
    "# !pip install scipy\n",
    "from scipy.stats import chi2"
   ]
  },
  {
   "cell_type": "markdown",
   "metadata": {},
   "source": [
    "Now to get the area under the curve:"
   ]
  },
  {
   "cell_type": "code",
   "execution_count": null,
   "metadata": {},
   "outputs": [],
   "source": [
    "chi2.cdf(chiVal, df)"
   ]
  },
  {
   "cell_type": "markdown",
   "metadata": {},
   "source": [
    "However we actually need for the p-value a value equal or greater than the chi-square value. So we subtract the above result from 1:"
   ]
  },
  {
   "cell_type": "code",
   "execution_count": null,
   "metadata": {},
   "outputs": [],
   "source": [
    "1 - chi2.cdf(chiVal, df)"
   ]
  },
  {
   "cell_type": "markdown",
   "metadata": {},
   "source": [
    "And that's indeed the same as we saw before."
   ]
  },
  {
   "cell_type": "code",
   "execution_count": null,
   "metadata": {},
   "outputs": [],
   "source": [
    "chi2.sf(chiVal, df)"
   ]
  }
 ],
 "metadata": {
  "kernelspec": {
   "display_name": "Python 3",
   "language": "python",
   "name": "python3"
  },
  "language_info": {
   "codemirror_mode": {
    "name": "ipython",
    "version": 3
   },
   "file_extension": ".py",
   "mimetype": "text/x-python",
   "name": "python",
   "nbconvert_exporter": "python",
   "pygments_lexer": "ipython3",
   "version": "3.7.4"
  }
 },
 "nbformat": 4,
 "nbformat_minor": 4
}
